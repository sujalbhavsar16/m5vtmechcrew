{
 "cells": [
  {
   "cell_type": "code",
   "execution_count": 4,
   "metadata": {},
   "outputs": [],
   "source": [
    "import import_ipynb\n",
    "import Aggregation"
   ]
  },
  {
   "cell_type": "code",
   "execution_count": 10,
   "metadata": {},
   "outputs": [],
   "source": [
    "import pandas as pd\n",
    "import numpy as np\n",
    "import matplotlib.pyplot as plt\n",
    "import os\n",
    "a='Data'\n",
    "b='sales_train_validation.csv'\n",
    "sale=pd.read_csv(os.path.join(a,b))\n"
   ]
  },
  {
   "cell_type": "code",
   "execution_count": 13,
   "metadata": {},
   "outputs": [],
   "source": [
    "kk=Aggregation.LevelsCreater(sale)"
   ]
  },
  {
   "cell_type": "code",
   "execution_count": 14,
   "metadata": {},
   "outputs": [
    {
     "name": "stdout",
     "output_type": "stream",
     "text": [
      "              dept_id   d_1   d_2   d_3   d_4   d_5   d_6   d_7   d_8   d_9  \\\n",
      "store_id                                                                      \n",
      "CA_1          FOODS_1   297   284   214   175   182   191   224   263   245   \n",
      "CA_1          FOODS_2   674   655   396   476   354   486   554   747   581   \n",
      "CA_1          FOODS_3  2268  2198  1398  1607  1496  1730  1915  2952  2592   \n",
      "CA_1        HOBBIES_1   528   489   409   383   263   453   339   750   425   \n",
      "CA_1        HOBBIES_2    28     9     6     9     5    14     7    19     7   \n",
      "...               ...   ...   ...   ...   ...   ...   ...   ...   ...   ...   \n",
      "WI_3          FOODS_3  2293  2383  1841  1965  1427  2760  2727  3786  3179   \n",
      "WI_3        HOBBIES_1   256   342   228   183    70   285   357   399   216   \n",
      "WI_3        HOBBIES_2    22    14    20    11     4     8     3    13     4   \n",
      "WI_3      HOUSEHOLD_1   584   541   420   327   151   392   492   647   418   \n",
      "WI_3      HOUSEHOLD_2   148   195   106    94    53   122   159   186   119   \n",
      "\n",
      "          ...  d_1904  d_1905  d_1906  d_1907  d_1908  d_1909  d_1910  d_1911  \\\n",
      "store_id  ...                                                                   \n",
      "CA_1      ...     293     317     268     302     237     287     297     331   \n",
      "CA_1      ...     435     499     637     529     391     423     365     489   \n",
      "CA_1      ...    1978    2665    3099    2055    1860    1780    1871    2140   \n",
      "CA_1      ...     370     690     597     517     461     333     380     471   \n",
      "CA_1      ...      31      32      58      25      34      30      30      56   \n",
      "...       ...     ...     ...     ...     ...     ...     ...     ...     ...   \n",
      "WI_3      ...    2534    2659    2449    1991    1715    1579    1670    1897   \n",
      "WI_3      ...     304     376     200     149     249     202     182     264   \n",
      "WI_3      ...      44      35      51      25      27      42      21      32   \n",
      "WI_3      ...     676     708     802     609     558     535     573     701   \n",
      "WI_3      ...     169     179     201     161     120     148     142     166   \n",
      "\n",
      "          d_1912  d_1913  \n",
      "store_id                  \n",
      "CA_1         419     329  \n",
      "CA_1         590     734  \n",
      "CA_1        2646    2990  \n",
      "CA_1         621     641  \n",
      "CA_1          49      73  \n",
      "...          ...     ...  \n",
      "WI_3        2411    2233  \n",
      "WI_3         381     230  \n",
      "WI_3          32      21  \n",
      "WI_3         801     766  \n",
      "WI_3         232     201  \n",
      "\n",
      "[70 rows x 1914 columns]\n"
     ]
    }
   ],
   "source": [
    "print(kk.level_9())"
   ]
  }
 ],
 "metadata": {
  "kernelspec": {
   "display_name": "Python 3",
   "language": "python",
   "name": "python3"
  },
  "language_info": {
   "codemirror_mode": {
    "name": "ipython",
    "version": 3
   },
   "file_extension": ".py",
   "mimetype": "text/x-python",
   "name": "python",
   "nbconvert_exporter": "python",
   "pygments_lexer": "ipython3",
   "version": "3.7.5"
  }
 },
 "nbformat": 4,
 "nbformat_minor": 4
}
