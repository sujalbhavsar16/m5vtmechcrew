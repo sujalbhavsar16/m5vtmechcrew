{
 "cells": [
  {
   "cell_type": "code",
   "execution_count": 37,
   "metadata": {},
   "outputs": [
    {
     "data": {
      "text/html": [
       "<div>\n",
       "<style scoped>\n",
       "    .dataframe tbody tr th:only-of-type {\n",
       "        vertical-align: middle;\n",
       "    }\n",
       "\n",
       "    .dataframe tbody tr th {\n",
       "        vertical-align: top;\n",
       "    }\n",
       "\n",
       "    .dataframe thead th {\n",
       "        text-align: right;\n",
       "    }\n",
       "</style>\n",
       "<table border=\"1\" class=\"dataframe\">\n",
       "  <thead>\n",
       "    <tr style=\"text-align: right;\">\n",
       "      <th></th>\n",
       "      <th>zero(t-5)</th>\n",
       "      <th>zero(t-3)</th>\n",
       "      <th>zero(t-1)</th>\n",
       "      <th>zero(t-4)</th>\n",
       "      <th>zero(t-2)</th>\n",
       "    </tr>\n",
       "  </thead>\n",
       "  <tbody>\n",
       "    <tr>\n",
       "      <th>5</th>\n",
       "      <td>32631.0</td>\n",
       "      <td>23783.0</td>\n",
       "      <td>19146.0</td>\n",
       "      <td>31749.0</td>\n",
       "      <td>25412.0</td>\n",
       "    </tr>\n",
       "    <tr>\n",
       "      <th>6</th>\n",
       "      <td>31749.0</td>\n",
       "      <td>25412.0</td>\n",
       "      <td>29211.0</td>\n",
       "      <td>23783.0</td>\n",
       "      <td>19146.0</td>\n",
       "    </tr>\n",
       "    <tr>\n",
       "      <th>7</th>\n",
       "      <td>23783.0</td>\n",
       "      <td>19146.0</td>\n",
       "      <td>28010.0</td>\n",
       "      <td>25412.0</td>\n",
       "      <td>29211.0</td>\n",
       "    </tr>\n",
       "    <tr>\n",
       "      <th>8</th>\n",
       "      <td>25412.0</td>\n",
       "      <td>29211.0</td>\n",
       "      <td>37932.0</td>\n",
       "      <td>19146.0</td>\n",
       "      <td>28010.0</td>\n",
       "    </tr>\n",
       "    <tr>\n",
       "      <th>9</th>\n",
       "      <td>19146.0</td>\n",
       "      <td>28010.0</td>\n",
       "      <td>32736.0</td>\n",
       "      <td>29211.0</td>\n",
       "      <td>37932.0</td>\n",
       "    </tr>\n",
       "    <tr>\n",
       "      <th>...</th>\n",
       "      <td>...</td>\n",
       "      <td>...</td>\n",
       "      <td>...</td>\n",
       "      <td>...</td>\n",
       "      <td>...</td>\n",
       "    </tr>\n",
       "    <tr>\n",
       "      <th>1936</th>\n",
       "      <td>44073.0</td>\n",
       "      <td>59921.0</td>\n",
       "      <td>38777.0</td>\n",
       "      <td>54308.0</td>\n",
       "      <td>42362.0</td>\n",
       "    </tr>\n",
       "    <tr>\n",
       "      <th>1937</th>\n",
       "      <td>54308.0</td>\n",
       "      <td>42362.0</td>\n",
       "      <td>37096.0</td>\n",
       "      <td>59921.0</td>\n",
       "      <td>38777.0</td>\n",
       "    </tr>\n",
       "    <tr>\n",
       "      <th>1938</th>\n",
       "      <td>59921.0</td>\n",
       "      <td>38777.0</td>\n",
       "      <td>36963.0</td>\n",
       "      <td>42362.0</td>\n",
       "      <td>37096.0</td>\n",
       "    </tr>\n",
       "    <tr>\n",
       "      <th>1939</th>\n",
       "      <td>42362.0</td>\n",
       "      <td>37096.0</td>\n",
       "      <td>42552.0</td>\n",
       "      <td>38777.0</td>\n",
       "      <td>36963.0</td>\n",
       "    </tr>\n",
       "    <tr>\n",
       "      <th>1940</th>\n",
       "      <td>38777.0</td>\n",
       "      <td>36963.0</td>\n",
       "      <td>51518.0</td>\n",
       "      <td>37096.0</td>\n",
       "      <td>42552.0</td>\n",
       "    </tr>\n",
       "  </tbody>\n",
       "</table>\n",
       "<p>1936 rows × 5 columns</p>\n",
       "</div>"
      ],
      "text/plain": [
       "      zero(t-5)  zero(t-3)  zero(t-1)  zero(t-4)  zero(t-2)\n",
       "5       32631.0    23783.0    19146.0    31749.0    25412.0\n",
       "6       31749.0    25412.0    29211.0    23783.0    19146.0\n",
       "7       23783.0    19146.0    28010.0    25412.0    29211.0\n",
       "8       25412.0    29211.0    37932.0    19146.0    28010.0\n",
       "9       19146.0    28010.0    32736.0    29211.0    37932.0\n",
       "...         ...        ...        ...        ...        ...\n",
       "1936    44073.0    59921.0    38777.0    54308.0    42362.0\n",
       "1937    54308.0    42362.0    37096.0    59921.0    38777.0\n",
       "1938    59921.0    38777.0    36963.0    42362.0    37096.0\n",
       "1939    42362.0    37096.0    42552.0    38777.0    36963.0\n",
       "1940    38777.0    36963.0    51518.0    37096.0    42552.0\n",
       "\n",
       "[1936 rows x 5 columns]"
      ]
     },
     "execution_count": 37,
     "metadata": {},
     "output_type": "execute_result"
    }
   ],
   "source": [
    "import pandas as pd\n",
    "import numpy as np\n",
    "import matplotlib.pyplot as plt\n",
    "import os\n",
    "import exovar\n",
    "import LevelsCreater as lc\n",
    "from functions import series_to_supervised\n",
    "\n",
    "levels = lc.LevelsCreater()\n",
    "sale=pd.read_csv(os.path.join('Data2','sales_train_evaluation.csv'))\n",
    "s=levels.get_level(sale,1)\n",
    "calendar=pd.read_csv(os.path.join('Data2','calendar.csv'))\n",
    "s=s.T\n",
    "s=s.rename(columns={s.columns[0]:'zero'})\n",
    "s=s.T\n",
    "ex=exovar.exovar()\n",
    "salecal=ex.salecal(s,calendar,node=0)\n",
    "x,y,e=series_to_supervised(salecal,5,1,parse=True,dropnan=True)\n",
    "x"
   ]
  },
  {
   "cell_type": "code",
   "execution_count": 38,
   "metadata": {},
   "outputs": [],
   "source": [
    "from sklearn.gaussian_process.kernels import WhiteKernel, ExpSineSquared, ConstantKernel,RBF\n",
    "from sklearn.gaussian_process import GaussianProcessRegressor\n",
    "\n",
    "k0 = WhiteKernel(noise_level=0.3**2, noise_level_bounds=(0.1**2, 0.5**2))\n",
    "\n",
    "k1 = ConstantKernel(constant_value=2) * \\\n",
    "    ExpSineSquared(length_scale=1.0, periodicity=40, periodicity_bounds=(35, 45))\n",
    "\n",
    "k2 = ConstantKernel(constant_value=10, constant_value_bounds=(1e-2, 1e3)) * RBF(length_scale=100.0, length_scale_bounds=(1, 1e4)) \n",
    "\n",
    "k3 = ConstantKernel(constant_value=1) * ExpSineSquared(length_scale=1.0, periodicity=12, periodicity_bounds=(10, 15))\n",
    "\n",
    "kernel_3  = k0 + k1 + k2 + k3\n",
    "\n",
    "gp3 = GaussianProcessRegressor(\n",
    "    kernel=kernel_3, \n",
    "    n_restarts_optimizer=10, \n",
    "    normalize_y=True,\n",
    "    alpha=0.0\n",
    ")\n",
    "\n"
   ]
  },
  {
   "cell_type": "code",
   "execution_count": 39,
   "metadata": {},
   "outputs": [
    {
     "data": {
      "text/plain": [
       "GaussianProcessRegressor(alpha=0.0, copy_X_train=True,\n",
       "                         kernel=WhiteKernel(noise_level=0.09) + 1.41**2 * ExpSineSquared(length_scale=1, periodicity=40) + 3.16**2 * RBF(length_scale=100) + 1**2 * ExpSineSquared(length_scale=1, periodicity=12),\n",
       "                         n_restarts_optimizer=10, normalize_y=True,\n",
       "                         optimizer='fmin_l_bfgs_b', random_state=None)"
      ]
     },
     "execution_count": 39,
     "metadata": {},
     "output_type": "execute_result"
    }
   ],
   "source": [
    "X=x.join(e)\n",
    "Y=y\n",
    "X_train=X.iloc[:-28]\n",
    "Y_train=Y.iloc[:-28]\n",
    "X_test=X.iloc[-28:]\n",
    "Y_test=Y.iloc[-28:]\n",
    "\n",
    "gp3.fit(X_train, Y_train)"
   ]
  },
  {
   "cell_type": "code",
   "execution_count": 40,
   "metadata": {},
   "outputs": [
    {
     "name": "stdout",
     "output_type": "stream",
     "text": [
      "28\n",
      "28\n"
     ]
    }
   ],
   "source": [
    "y_pred, y_std = gp3.predict(X_test, return_std=True)\n",
    "print(len(y_pred))\n",
    "print(len(Y_test))"
   ]
  },
  {
   "cell_type": "code",
   "execution_count": 41,
   "metadata": {},
   "outputs": [
    {
     "name": "stdout",
     "output_type": "stream",
     "text": [
      "1.979914622618084\n"
     ]
    }
   ],
   "source": [
    "from functions import RMSSE\n",
    "s = s.transpose()\n",
    "df = pd.DataFrame(s[s.columns[0]])\n",
    "rmsse=RMSSE(y_pred,Y_test,df.values)\n",
    "print(rmsse)"
   ]
  },
  {
   "cell_type": "code",
   "execution_count": 35,
   "metadata": {},
   "outputs": [
    {
     "data": {
      "text/plain": [
       "array([34371.73304729, 34371.73437117, 34371.73479202, 34371.73448772,\n",
       "       34371.73439682, 34371.73615908, 34371.73510911, 34371.7339124 ,\n",
       "       34371.7345839 , 34371.73415042, 34371.73595209, 34371.73417534,\n",
       "       34371.73346238, 34371.73443861, 34371.73465625, 34371.73558078,\n",
       "       34371.73590165, 34371.73534148, 34371.73501331, 34371.734853  ,\n",
       "       34371.73476344, 34371.73443768, 34371.73546284, 34371.7346677 ,\n",
       "       34371.73560855, 34371.73564044, 34371.73447764, 34371.7347582 ])"
      ]
     },
     "execution_count": 35,
     "metadata": {},
     "output_type": "execute_result"
    }
   ],
   "source": [
    "y_pred"
   ]
  },
  {
   "cell_type": "code",
   "execution_count": 36,
   "metadata": {},
   "outputs": [
    {
     "data": {
      "text/plain": [
       "1913    38793\n",
       "1914    35487\n",
       "1915    34445\n",
       "1916    34732\n",
       "1917    42896\n",
       "1918    50429\n",
       "1919    53032\n",
       "1920    43181\n",
       "1921    44314\n",
       "1922    39601\n",
       "1923    40763\n",
       "1924    43805\n",
       "1925    54239\n",
       "1926    45609\n",
       "1927    46400\n",
       "1928    39379\n",
       "1929    42248\n",
       "1930    40503\n",
       "1931    44073\n",
       "1932    54308\n",
       "1933    59921\n",
       "1934    42362\n",
       "1935    38777\n",
       "1936    37096\n",
       "1937    36963\n",
       "1938    42552\n",
       "1939    51518\n",
       "1940    54338\n",
       "Name: zero(t), dtype: int64"
      ]
     },
     "execution_count": 36,
     "metadata": {},
     "output_type": "execute_result"
    }
   ],
   "source": [
    "Y_test"
   ]
  }
 ],
 "metadata": {
  "kernelspec": {
   "display_name": "Python 3",
   "language": "python",
   "name": "python3"
  },
  "language_info": {
   "codemirror_mode": {
    "name": "ipython",
    "version": 3
   },
   "file_extension": ".py",
   "mimetype": "text/x-python",
   "name": "python",
   "nbconvert_exporter": "python",
   "pygments_lexer": "ipython3",
   "version": "3.7.4"
  }
 },
 "nbformat": 4,
 "nbformat_minor": 4
}
