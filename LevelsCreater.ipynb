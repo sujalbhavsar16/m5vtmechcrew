{
 "cells": [
  {
   "cell_type": "code",
   "execution_count": 1,
   "metadata": {},
   "outputs": [],
   "source": [
    "import pandas as pd\n",
    "import numpy as np\n",
    "import os\n",
    "import matplotlib.pyplot as plt\n",
    "from pylab import rcParams\n",
    "rcParams['figure.figsize'] = 30,5\n",
    "from statsmodels.tsa.stattools import acf,pacf\n",
    "from statsmodels.graphics.tsaplots import plot_acf,plot_pacf\n",
    "from sklearn.model_selection import train_test_split \n",
    "from sklearn.linear_model import LinearRegression\n",
    "from sklearn import metrics"
   ]
  },
  {
   "cell_type": "code",
   "execution_count": 2,
   "metadata": {},
   "outputs": [],
   "source": [
    "class LevelsCreater:\n",
    "    def __init__(self):\n",
    "        pass\n",
    "    \n",
    "    def level_11(self,sales_data):\n",
    "        df = sales_data.groupby(['item_id', 'state_id'], as_index=False).sum()\n",
    "        return df.set_index(df.columns[0])\n",
    "    def level_10(self,sales_data):\n",
    "        df= sales_data.groupby(['item_id'], as_index=False).sum()\n",
    "        return df.set_index(df.columns[0])\n",
    "    \n",
    "    def level_9(self,sales_data):\n",
    "        df= sales_data.groupby(['store_id', 'dept_id'], as_index=False).sum()\n",
    "        return df.set_index(df.columns[0])\n",
    "    \n",
    "    def level_8(self,sales_data):\n",
    "        df= sales_data.groupby(['store_id', 'cat_id'], as_index=False).sum()\n",
    "        return df.set_index(df.columns[0])\n",
    "    \n",
    "    def level_7(self,sales_data):\n",
    "        df= sales_data.groupby(['state_id', 'dept_id'], as_index=False).sum()\n",
    "        return df.set_index(df.columns[0])\n",
    "    def level_6(self,sales_data):\n",
    "        df= sales_data.groupby(['state_id', 'cat_id'], as_index=False).sum()\n",
    "        return df.set_index(df.columns[0])\n",
    "    def level_5(self,sales_data):\n",
    "        df= sales_data.groupby(['dept_id'], as_index=False).sum()\n",
    "        return df.set_index(df.columns[0])\n",
    "    def level_4(self,sales_data):\n",
    "        df= sales_data.groupby(['cat_id'], as_index=False).sum()\n",
    "        return df.set_index(df.columns[0])\n",
    "    def level_3(self,sales_data):\n",
    "        df= sales_data.groupby(['store_id'], as_index=False).sum()\n",
    "        return df.set_index(df.columns[0])\n",
    "    def level_2(self,sales_data):\n",
    "        df= sales_data.groupby(['state_id'], as_index=False).sum()\n",
    "        return df.set_index(df.columns[0])\n",
    "    def level_1(self,sales_data):\n",
    "        df= (pd.DataFrame(self.level_2(sales_data).sum())).transpose()\n",
    "        return df        "
   ]
  },
  {
   "cell_type": "code",
   "execution_count": 14,
   "metadata": {},
   "outputs": [],
   "source": [
    "# Generatelev = LevelsCreater()\n",
    "# level11 = Generatelev.level_11(sale)\n",
    "# level10 = Generatelev.level_10(sale)\n",
    "# level9 = Generatelev.level_9(sale)\n",
    "# level8 = Generatelev.level_8(sale)\n",
    "# level7 = Generatelev.level_7(sale)\n",
    "# level6 = Generatelev.level_6(sale)\n",
    "# level5 = Generatelev.level_5(sale)\n",
    "# level4 = Generatelev.level_4(sale)\n",
    "# level3 = Generatelev.level_3(sale)\n",
    "# level2 = Generatelev.level_2(sale)\n",
    "# level1 = Generatelev.level_1(sale)\n",
    "        "
   ]
  }
 ],
 "metadata": {
  "kernelspec": {
   "display_name": "Python 3",
   "language": "python",
   "name": "python3"
  },
  "language_info": {
   "codemirror_mode": {
    "name": "ipython",
    "version": 3
   },
   "file_extension": ".py",
   "mimetype": "text/x-python",
   "name": "python",
   "nbconvert_exporter": "python",
   "pygments_lexer": "ipython3",
   "version": "3.7.6"
  },
  "toc": {
   "base_numbering": 1,
   "nav_menu": {},
   "number_sections": true,
   "sideBar": true,
   "skip_h1_title": false,
   "title_cell": "Table of Contents",
   "title_sidebar": "Contents",
   "toc_cell": false,
   "toc_position": {},
   "toc_section_display": true,
   "toc_window_display": false
  },
  "varInspector": {
   "cols": {
    "lenName": 16,
    "lenType": 16,
    "lenVar": 40
   },
   "kernels_config": {
    "python": {
     "delete_cmd_postfix": "",
     "delete_cmd_prefix": "del ",
     "library": "var_list.py",
     "varRefreshCmd": "print(var_dic_list())"
    },
    "r": {
     "delete_cmd_postfix": ") ",
     "delete_cmd_prefix": "rm(",
     "library": "var_list.r",
     "varRefreshCmd": "cat(var_dic_list()) "
    }
   },
   "types_to_exclude": [
    "module",
    "function",
    "builtin_function_or_method",
    "instance",
    "_Feature"
   ],
   "window_display": false
  }
 },
 "nbformat": 4,
 "nbformat_minor": 2
}
